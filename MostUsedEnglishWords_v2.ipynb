{
  "nbformat": 4,
  "nbformat_minor": 0,
  "metadata": {
    "colab": {
      "name": "MostUsedEnglishWords-v2.ipynb",
      "provenance": [],
      "collapsed_sections": []
    },
    "kernelspec": {
      "name": "python3",
      "display_name": "Python 3"
    },
    "language_info": {
      "name": "python"
    }
  },
  "cells": [
    {
      "cell_type": "code",
      "metadata": {
        "id": "wlT1SPwWjAUZ"
      },
      "source": [
        "import pandas as pd"
      ],
      "execution_count": 129,
      "outputs": []
    },
    {
      "cell_type": "code",
      "metadata": {
        "colab": {
          "base_uri": "https://localhost:8080/",
          "height": 204
        },
        "id": "0yuSZ4iVjTiu",
        "outputId": "3dd0888b-1754-42f0-af3c-70b6c6dc34b5"
      },
      "source": [
        "df=pd.read_csv('/content/drive/MyDrive/EnglishWordsDataset/unigram_freq.csv')\n",
        "df.head()"
      ],
      "execution_count": 130,
      "outputs": [
        {
          "output_type": "execute_result",
          "data": {
            "text/html": [
              "<div>\n",
              "<style scoped>\n",
              "    .dataframe tbody tr th:only-of-type {\n",
              "        vertical-align: middle;\n",
              "    }\n",
              "\n",
              "    .dataframe tbody tr th {\n",
              "        vertical-align: top;\n",
              "    }\n",
              "\n",
              "    .dataframe thead th {\n",
              "        text-align: right;\n",
              "    }\n",
              "</style>\n",
              "<table border=\"1\" class=\"dataframe\">\n",
              "  <thead>\n",
              "    <tr style=\"text-align: right;\">\n",
              "      <th></th>\n",
              "      <th>word</th>\n",
              "      <th>count</th>\n",
              "    </tr>\n",
              "  </thead>\n",
              "  <tbody>\n",
              "    <tr>\n",
              "      <th>0</th>\n",
              "      <td>the</td>\n",
              "      <td>23135851162</td>\n",
              "    </tr>\n",
              "    <tr>\n",
              "      <th>1</th>\n",
              "      <td>of</td>\n",
              "      <td>13151942776</td>\n",
              "    </tr>\n",
              "    <tr>\n",
              "      <th>2</th>\n",
              "      <td>and</td>\n",
              "      <td>12997637966</td>\n",
              "    </tr>\n",
              "    <tr>\n",
              "      <th>3</th>\n",
              "      <td>to</td>\n",
              "      <td>12136980858</td>\n",
              "    </tr>\n",
              "    <tr>\n",
              "      <th>4</th>\n",
              "      <td>a</td>\n",
              "      <td>9081174698</td>\n",
              "    </tr>\n",
              "  </tbody>\n",
              "</table>\n",
              "</div>"
            ],
            "text/plain": [
              "  word        count\n",
              "0  the  23135851162\n",
              "1   of  13151942776\n",
              "2  and  12997637966\n",
              "3   to  12136980858\n",
              "4    a   9081174698"
            ]
          },
          "metadata": {
            "tags": []
          },
          "execution_count": 130
        }
      ]
    },
    {
      "cell_type": "code",
      "metadata": {
        "colab": {
          "base_uri": "https://localhost:8080/"
        },
        "id": "iNIPxkfi0Xm6",
        "outputId": "231acfab-9896-45fc-b495-ebabfa0d2112"
      },
      "source": [
        "#Checking missing values\n",
        "df.isna().sum()"
      ],
      "execution_count": 131,
      "outputs": [
        {
          "output_type": "execute_result",
          "data": {
            "text/plain": [
              "word     2\n",
              "count    0\n",
              "dtype: int64"
            ]
          },
          "metadata": {
            "tags": []
          },
          "execution_count": 131
        }
      ]
    },
    {
      "cell_type": "code",
      "metadata": {
        "colab": {
          "base_uri": "https://localhost:8080/"
        },
        "id": "3omlpNs700CT",
        "outputId": "835466dd-d56b-4267-f91b-272e64face01"
      },
      "source": [
        "#dropping 2 missing values\n",
        "df.dropna(inplace=True)\n",
        "df.isna().sum()"
      ],
      "execution_count": 132,
      "outputs": [
        {
          "output_type": "execute_result",
          "data": {
            "text/plain": [
              "word     0\n",
              "count    0\n",
              "dtype: int64"
            ]
          },
          "metadata": {
            "tags": []
          },
          "execution_count": 132
        }
      ]
    },
    {
      "cell_type": "code",
      "metadata": {
        "colab": {
          "base_uri": "https://localhost:8080/"
        },
        "id": "alcE7V2n3dHe",
        "outputId": "fce16d77-608b-4ee9-e314-780994e95045"
      },
      "source": [
        "df.shape"
      ],
      "execution_count": 133,
      "outputs": [
        {
          "output_type": "execute_result",
          "data": {
            "text/plain": [
              "(333331, 2)"
            ]
          },
          "metadata": {
            "tags": []
          },
          "execution_count": 133
        }
      ]
    },
    {
      "cell_type": "code",
      "metadata": {
        "colab": {
          "base_uri": "https://localhost:8080/"
        },
        "id": "ChsuUxw74ICO",
        "outputId": "9d1c4c25-0850-4cde-b698-8b29f7667c1d"
      },
      "source": [
        "print(df.loc[105])"
      ],
      "execution_count": 134,
      "outputs": [
        {
          "output_type": "stream",
          "text": [
            "word           had\n",
            "count    480232730\n",
            "Name: 105, dtype: object\n"
          ],
          "name": "stdout"
        }
      ]
    },
    {
      "cell_type": "code",
      "metadata": {
        "id": "lXZwfH-j3mpk"
      },
      "source": [
        "#Removing all irrelevant characters (Numbers and Punctuation)\n",
        "# Bu verisetinde bu işleme gerek yok"
      ],
      "execution_count": null,
      "outputs": []
    },
    {
      "cell_type": "code",
      "metadata": {
        "colab": {
          "base_uri": "https://localhost:8080/"
        },
        "id": "aIjJFTV05vti",
        "outputId": "360e5f1a-9fa6-431c-8477-a8f95e32d12d"
      },
      "source": [
        "#Finding unique words\n",
        "df_unique=df[\"word\"].str.split(\" \").apply(pd.Series).stack().unique()\n",
        "df_unique.shape"
      ],
      "execution_count": 116,
      "outputs": [
        {
          "output_type": "execute_result",
          "data": {
            "text/plain": [
              "(333331,)"
            ]
          },
          "metadata": {
            "tags": []
          },
          "execution_count": 116
        }
      ]
    },
    {
      "cell_type": "code",
      "metadata": {
        "id": "NayFg0GOjUk9"
      },
      "source": [
        "#Removal of Single and Double Letters\n",
        "words=df\n",
        "filterlength=(words['word'].str.len() >=3.0)\n",
        "words= words.loc[filterlength]\n"
      ],
      "execution_count": 135,
      "outputs": []
    },
    {
      "cell_type": "code",
      "metadata": {
        "colab": {
          "base_uri": "https://localhost:8080/"
        },
        "id": "Uo5ctzmejVsD",
        "outputId": "f0fbf09b-ab16-40cc-b202-70676109a619"
      },
      "source": [
        "#Removal of Stopwords\n",
        "import nltk\n",
        "#nltk.download(\"stopwords\")\n",
        "sw=nltk.corpus.stopwords.words('english')\n",
        "words2=words\n",
        "words_ns2=[]\n",
        "for index, row in words2.iterrows():\n",
        "    if (row['word'] in sw ):\n",
        "        words2.drop([index],inplace=True)"
      ],
      "execution_count": 136,
      "outputs": [
        {
          "output_type": "stream",
          "text": [
            "/usr/local/lib/python3.7/dist-packages/pandas/core/frame.py:4174: SettingWithCopyWarning: \n",
            "A value is trying to be set on a copy of a slice from a DataFrame\n",
            "\n",
            "See the caveats in the documentation: https://pandas.pydata.org/pandas-docs/stable/user_guide/indexing.html#returning-a-view-versus-a-copy\n",
            "  errors=errors,\n"
          ],
          "name": "stderr"
        }
      ]
    },
    {
      "cell_type": "code",
      "metadata": {
        "colab": {
          "base_uri": "https://localhost:8080/"
        },
        "id": "RmdXjRfr7kuB",
        "outputId": "6ef54539-e02d-43de-cb50-e853591a16b9"
      },
      "source": [
        "words2.shape"
      ],
      "execution_count": 137,
      "outputs": [
        {
          "output_type": "execute_result",
          "data": {
            "text/plain": [
              "(332513, 2)"
            ]
          },
          "metadata": {
            "tags": []
          },
          "execution_count": 137
        }
      ]
    },
    {
      "cell_type": "code",
      "metadata": {
        "colab": {
          "base_uri": "https://localhost:8080/",
          "height": 419
        },
        "id": "J9GcHGrh_mN_",
        "outputId": "a3653222-9396-438b-b0d4-e04c041e8599"
      },
      "source": [
        "words2"
      ],
      "execution_count": 138,
      "outputs": [
        {
          "output_type": "execute_result",
          "data": {
            "text/html": [
              "<div>\n",
              "<style scoped>\n",
              "    .dataframe tbody tr th:only-of-type {\n",
              "        vertical-align: middle;\n",
              "    }\n",
              "\n",
              "    .dataframe tbody tr th {\n",
              "        vertical-align: top;\n",
              "    }\n",
              "\n",
              "    .dataframe thead th {\n",
              "        text-align: right;\n",
              "    }\n",
              "</style>\n",
              "<table border=\"1\" class=\"dataframe\">\n",
              "  <thead>\n",
              "    <tr style=\"text-align: right;\">\n",
              "      <th></th>\n",
              "      <th>word</th>\n",
              "      <th>count</th>\n",
              "    </tr>\n",
              "  </thead>\n",
              "  <tbody>\n",
              "    <tr>\n",
              "      <th>26</th>\n",
              "      <td>new</td>\n",
              "      <td>1551258643</td>\n",
              "    </tr>\n",
              "    <tr>\n",
              "      <th>32</th>\n",
              "      <td>home</td>\n",
              "      <td>1276852170</td>\n",
              "    </tr>\n",
              "    <tr>\n",
              "      <th>37</th>\n",
              "      <td>page</td>\n",
              "      <td>1082121730</td>\n",
              "    </tr>\n",
              "    <tr>\n",
              "      <th>40</th>\n",
              "      <td>search</td>\n",
              "      <td>1024093118</td>\n",
              "    </tr>\n",
              "    <tr>\n",
              "      <th>41</th>\n",
              "      <td>free</td>\n",
              "      <td>1014107316</td>\n",
              "    </tr>\n",
              "    <tr>\n",
              "      <th>...</th>\n",
              "      <td>...</td>\n",
              "      <td>...</td>\n",
              "    </tr>\n",
              "    <tr>\n",
              "      <th>333328</th>\n",
              "      <td>gooek</td>\n",
              "      <td>12711</td>\n",
              "    </tr>\n",
              "    <tr>\n",
              "      <th>333329</th>\n",
              "      <td>gooddg</td>\n",
              "      <td>12711</td>\n",
              "    </tr>\n",
              "    <tr>\n",
              "      <th>333330</th>\n",
              "      <td>gooblle</td>\n",
              "      <td>12711</td>\n",
              "    </tr>\n",
              "    <tr>\n",
              "      <th>333331</th>\n",
              "      <td>gollgo</td>\n",
              "      <td>12711</td>\n",
              "    </tr>\n",
              "    <tr>\n",
              "      <th>333332</th>\n",
              "      <td>golgw</td>\n",
              "      <td>12711</td>\n",
              "    </tr>\n",
              "  </tbody>\n",
              "</table>\n",
              "<p>332513 rows × 2 columns</p>\n",
              "</div>"
            ],
            "text/plain": [
              "           word       count\n",
              "26          new  1551258643\n",
              "32         home  1276852170\n",
              "37         page  1082121730\n",
              "40       search  1024093118\n",
              "41         free  1014107316\n",
              "...         ...         ...\n",
              "333328    gooek       12711\n",
              "333329   gooddg       12711\n",
              "333330  gooblle       12711\n",
              "333331   gollgo       12711\n",
              "333332    golgw       12711\n",
              "\n",
              "[332513 rows x 2 columns]"
            ]
          },
          "metadata": {
            "tags": []
          },
          "execution_count": 138
        }
      ]
    },
    {
      "cell_type": "code",
      "metadata": {
        "colab": {
          "base_uri": "https://localhost:8080/"
        },
        "id": "GR7fjJqd-cVQ",
        "outputId": "02f7ae89-534f-426b-b113-b7b1cd7b33b2"
      },
      "source": [
        "#Tokenization\n",
        "import nltk\n",
        "#nltk.download('punkt')\n",
        "from nltk.tokenize import word_tokenize\n",
        "\n",
        "def clean_tokenization(text):\n",
        "  return word_tokenize(text)\n",
        "words2['word']=words2['word'].apply(clean_tokenization)"
      ],
      "execution_count": 139,
      "outputs": [
        {
          "output_type": "stream",
          "text": [
            "/usr/local/lib/python3.7/dist-packages/ipykernel_launcher.py:8: SettingWithCopyWarning: \n",
            "A value is trying to be set on a copy of a slice from a DataFrame.\n",
            "Try using .loc[row_indexer,col_indexer] = value instead\n",
            "\n",
            "See the caveats in the documentation: https://pandas.pydata.org/pandas-docs/stable/user_guide/indexing.html#returning-a-view-versus-a-copy\n",
            "  \n"
          ],
          "name": "stderr"
        }
      ]
    },
    {
      "cell_type": "code",
      "metadata": {
        "colab": {
          "base_uri": "https://localhost:8080/"
        },
        "id": "dc-jFtbC-992",
        "outputId": "018b48b7-1353-4299-866f-badbd6997152"
      },
      "source": [
        "words2.shape"
      ],
      "execution_count": 140,
      "outputs": [
        {
          "output_type": "execute_result",
          "data": {
            "text/plain": [
              "(332513, 2)"
            ]
          },
          "metadata": {
            "tags": []
          },
          "execution_count": 140
        }
      ]
    },
    {
      "cell_type": "code",
      "metadata": {
        "colab": {
          "base_uri": "https://localhost:8080/",
          "height": 419
        },
        "id": "5oZSdB1d-_2M",
        "outputId": "877fd5be-9a3f-4fee-976f-183ac192f4a1"
      },
      "source": [
        "words2"
      ],
      "execution_count": 141,
      "outputs": [
        {
          "output_type": "execute_result",
          "data": {
            "text/html": [
              "<div>\n",
              "<style scoped>\n",
              "    .dataframe tbody tr th:only-of-type {\n",
              "        vertical-align: middle;\n",
              "    }\n",
              "\n",
              "    .dataframe tbody tr th {\n",
              "        vertical-align: top;\n",
              "    }\n",
              "\n",
              "    .dataframe thead th {\n",
              "        text-align: right;\n",
              "    }\n",
              "</style>\n",
              "<table border=\"1\" class=\"dataframe\">\n",
              "  <thead>\n",
              "    <tr style=\"text-align: right;\">\n",
              "      <th></th>\n",
              "      <th>word</th>\n",
              "      <th>count</th>\n",
              "    </tr>\n",
              "  </thead>\n",
              "  <tbody>\n",
              "    <tr>\n",
              "      <th>26</th>\n",
              "      <td>[new]</td>\n",
              "      <td>1551258643</td>\n",
              "    </tr>\n",
              "    <tr>\n",
              "      <th>32</th>\n",
              "      <td>[home]</td>\n",
              "      <td>1276852170</td>\n",
              "    </tr>\n",
              "    <tr>\n",
              "      <th>37</th>\n",
              "      <td>[page]</td>\n",
              "      <td>1082121730</td>\n",
              "    </tr>\n",
              "    <tr>\n",
              "      <th>40</th>\n",
              "      <td>[search]</td>\n",
              "      <td>1024093118</td>\n",
              "    </tr>\n",
              "    <tr>\n",
              "      <th>41</th>\n",
              "      <td>[free]</td>\n",
              "      <td>1014107316</td>\n",
              "    </tr>\n",
              "    <tr>\n",
              "      <th>...</th>\n",
              "      <td>...</td>\n",
              "      <td>...</td>\n",
              "    </tr>\n",
              "    <tr>\n",
              "      <th>333328</th>\n",
              "      <td>[gooek]</td>\n",
              "      <td>12711</td>\n",
              "    </tr>\n",
              "    <tr>\n",
              "      <th>333329</th>\n",
              "      <td>[gooddg]</td>\n",
              "      <td>12711</td>\n",
              "    </tr>\n",
              "    <tr>\n",
              "      <th>333330</th>\n",
              "      <td>[gooblle]</td>\n",
              "      <td>12711</td>\n",
              "    </tr>\n",
              "    <tr>\n",
              "      <th>333331</th>\n",
              "      <td>[gollgo]</td>\n",
              "      <td>12711</td>\n",
              "    </tr>\n",
              "    <tr>\n",
              "      <th>333332</th>\n",
              "      <td>[golgw]</td>\n",
              "      <td>12711</td>\n",
              "    </tr>\n",
              "  </tbody>\n",
              "</table>\n",
              "<p>332513 rows × 2 columns</p>\n",
              "</div>"
            ],
            "text/plain": [
              "             word       count\n",
              "26          [new]  1551258643\n",
              "32         [home]  1276852170\n",
              "37         [page]  1082121730\n",
              "40       [search]  1024093118\n",
              "41         [free]  1014107316\n",
              "...           ...         ...\n",
              "333328    [gooek]       12711\n",
              "333329   [gooddg]       12711\n",
              "333330  [gooblle]       12711\n",
              "333331   [gollgo]       12711\n",
              "333332    [golgw]       12711\n",
              "\n",
              "[332513 rows x 2 columns]"
            ]
          },
          "metadata": {
            "tags": []
          },
          "execution_count": 141
        }
      ]
    },
    {
      "cell_type": "code",
      "metadata": {
        "id": "UlLKjf2RjZ1D",
        "colab": {
          "base_uri": "https://localhost:8080/"
        },
        "outputId": "99e5bf3c-8f9d-4c52-cfdd-7ed254801d61"
      },
      "source": [
        "#Lemmatization (Kök bulma)\n",
        "#import nltk\n",
        "#nltk.download('wordnet')\n",
        "from nltk.stem import WordNetLemmatizer\n",
        "lemma=WordNetLemmatizer()\n",
        "\n",
        "def lemmatization(token):\n",
        "  return [lemma.lemmatize(word=w,pos='v') for w in token]\n",
        "words2['word']=words2['word'].apply(lemmatization)"
      ],
      "execution_count": 142,
      "outputs": [
        {
          "output_type": "stream",
          "text": [
            "/usr/local/lib/python3.7/dist-packages/ipykernel_launcher.py:9: SettingWithCopyWarning: \n",
            "A value is trying to be set on a copy of a slice from a DataFrame.\n",
            "Try using .loc[row_indexer,col_indexer] = value instead\n",
            "\n",
            "See the caveats in the documentation: https://pandas.pydata.org/pandas-docs/stable/user_guide/indexing.html#returning-a-view-versus-a-copy\n",
            "  if __name__ == '__main__':\n"
          ],
          "name": "stderr"
        }
      ]
    },
    {
      "cell_type": "code",
      "metadata": {
        "colab": {
          "base_uri": "https://localhost:8080/",
          "height": 419
        },
        "id": "H53kRtdf_6vV",
        "outputId": "e67662b9-175f-4155-f363-24fa16f3a687"
      },
      "source": [
        "words2"
      ],
      "execution_count": 143,
      "outputs": [
        {
          "output_type": "execute_result",
          "data": {
            "text/html": [
              "<div>\n",
              "<style scoped>\n",
              "    .dataframe tbody tr th:only-of-type {\n",
              "        vertical-align: middle;\n",
              "    }\n",
              "\n",
              "    .dataframe tbody tr th {\n",
              "        vertical-align: top;\n",
              "    }\n",
              "\n",
              "    .dataframe thead th {\n",
              "        text-align: right;\n",
              "    }\n",
              "</style>\n",
              "<table border=\"1\" class=\"dataframe\">\n",
              "  <thead>\n",
              "    <tr style=\"text-align: right;\">\n",
              "      <th></th>\n",
              "      <th>word</th>\n",
              "      <th>count</th>\n",
              "    </tr>\n",
              "  </thead>\n",
              "  <tbody>\n",
              "    <tr>\n",
              "      <th>26</th>\n",
              "      <td>[new]</td>\n",
              "      <td>1551258643</td>\n",
              "    </tr>\n",
              "    <tr>\n",
              "      <th>32</th>\n",
              "      <td>[home]</td>\n",
              "      <td>1276852170</td>\n",
              "    </tr>\n",
              "    <tr>\n",
              "      <th>37</th>\n",
              "      <td>[page]</td>\n",
              "      <td>1082121730</td>\n",
              "    </tr>\n",
              "    <tr>\n",
              "      <th>40</th>\n",
              "      <td>[search]</td>\n",
              "      <td>1024093118</td>\n",
              "    </tr>\n",
              "    <tr>\n",
              "      <th>41</th>\n",
              "      <td>[free]</td>\n",
              "      <td>1014107316</td>\n",
              "    </tr>\n",
              "    <tr>\n",
              "      <th>...</th>\n",
              "      <td>...</td>\n",
              "      <td>...</td>\n",
              "    </tr>\n",
              "    <tr>\n",
              "      <th>333328</th>\n",
              "      <td>[gooek]</td>\n",
              "      <td>12711</td>\n",
              "    </tr>\n",
              "    <tr>\n",
              "      <th>333329</th>\n",
              "      <td>[gooddg]</td>\n",
              "      <td>12711</td>\n",
              "    </tr>\n",
              "    <tr>\n",
              "      <th>333330</th>\n",
              "      <td>[gooblle]</td>\n",
              "      <td>12711</td>\n",
              "    </tr>\n",
              "    <tr>\n",
              "      <th>333331</th>\n",
              "      <td>[gollgo]</td>\n",
              "      <td>12711</td>\n",
              "    </tr>\n",
              "    <tr>\n",
              "      <th>333332</th>\n",
              "      <td>[golgw]</td>\n",
              "      <td>12711</td>\n",
              "    </tr>\n",
              "  </tbody>\n",
              "</table>\n",
              "<p>332513 rows × 2 columns</p>\n",
              "</div>"
            ],
            "text/plain": [
              "             word       count\n",
              "26          [new]  1551258643\n",
              "32         [home]  1276852170\n",
              "37         [page]  1082121730\n",
              "40       [search]  1024093118\n",
              "41         [free]  1014107316\n",
              "...           ...         ...\n",
              "333328    [gooek]       12711\n",
              "333329   [gooddg]       12711\n",
              "333330  [gooblle]       12711\n",
              "333331   [gollgo]       12711\n",
              "333332    [golgw]       12711\n",
              "\n",
              "[332513 rows x 2 columns]"
            ]
          },
          "metadata": {
            "tags": []
          },
          "execution_count": 143
        }
      ]
    },
    {
      "cell_type": "code",
      "metadata": {
        "colab": {
          "base_uri": "https://localhost:8080/"
        },
        "id": "nkNZ-DlFACNv",
        "outputId": "9b679394-d4c6-4043-b776-3b4c7b31b224"
      },
      "source": [
        "#Finding unique words\n",
        "words2_unique=words2['word'].str.split(\" \").apply(pd.Series).stack().unique()\n",
        "words2_unique.shape"
      ],
      "execution_count": 144,
      "outputs": [
        {
          "output_type": "execute_result",
          "data": {
            "text/plain": [
              "(0,)"
            ]
          },
          "metadata": {
            "tags": []
          },
          "execution_count": 144
        }
      ]
    },
    {
      "cell_type": "code",
      "metadata": {
        "colab": {
          "base_uri": "https://localhost:8080/"
        },
        "id": "MISTCJsREUW4",
        "outputId": "7a3cfc4d-3107-4eb0-b3d3-57be1c097674"
      },
      "source": [
        "# Delete repeated words\n",
        "#kelimelere gore siraladık yani count degeri ile eslesmiyor\n",
        "words3=words2\n",
        "#words3=words2.sort_values(['word', 'count'])\n",
        "words3=words3.loc[words3.astype(str).drop_duplicates(subset=['word','count'],keep='first').index]\n",
        "words3.shape"
      ],
      "execution_count": 148,
      "outputs": [
        {
          "output_type": "execute_result",
          "data": {
            "text/plain": [
              "(332513, 2)"
            ]
          },
          "metadata": {
            "tags": []
          },
          "execution_count": 148
        }
      ]
    },
    {
      "cell_type": "code",
      "metadata": {
        "colab": {
          "base_uri": "https://localhost:8080/"
        },
        "id": "gy1x_38N764B",
        "outputId": "233c1c7d-bfcc-4bab-e36f-a3664ef0dd98"
      },
      "source": [
        "words3.isna().sum()"
      ],
      "execution_count": 149,
      "outputs": [
        {
          "output_type": "execute_result",
          "data": {
            "text/plain": [
              "word     0\n",
              "count    0\n",
              "dtype: int64"
            ]
          },
          "metadata": {
            "tags": []
          },
          "execution_count": 149
        }
      ]
    },
    {
      "cell_type": "code",
      "metadata": {
        "colab": {
          "base_uri": "https://localhost:8080/",
          "height": 204
        },
        "id": "9hJOuAb6HcAm",
        "outputId": "90197c7c-be6b-4d68-d020-a58cd7e656f4"
      },
      "source": [
        "words3.sort_index(inplace=True)\n",
        "words3.head()"
      ],
      "execution_count": 150,
      "outputs": [
        {
          "output_type": "execute_result",
          "data": {
            "text/html": [
              "<div>\n",
              "<style scoped>\n",
              "    .dataframe tbody tr th:only-of-type {\n",
              "        vertical-align: middle;\n",
              "    }\n",
              "\n",
              "    .dataframe tbody tr th {\n",
              "        vertical-align: top;\n",
              "    }\n",
              "\n",
              "    .dataframe thead th {\n",
              "        text-align: right;\n",
              "    }\n",
              "</style>\n",
              "<table border=\"1\" class=\"dataframe\">\n",
              "  <thead>\n",
              "    <tr style=\"text-align: right;\">\n",
              "      <th></th>\n",
              "      <th>word</th>\n",
              "      <th>count</th>\n",
              "    </tr>\n",
              "  </thead>\n",
              "  <tbody>\n",
              "    <tr>\n",
              "      <th>26</th>\n",
              "      <td>[new]</td>\n",
              "      <td>1551258643</td>\n",
              "    </tr>\n",
              "    <tr>\n",
              "      <th>32</th>\n",
              "      <td>[home]</td>\n",
              "      <td>1276852170</td>\n",
              "    </tr>\n",
              "    <tr>\n",
              "      <th>37</th>\n",
              "      <td>[page]</td>\n",
              "      <td>1082121730</td>\n",
              "    </tr>\n",
              "    <tr>\n",
              "      <th>40</th>\n",
              "      <td>[search]</td>\n",
              "      <td>1024093118</td>\n",
              "    </tr>\n",
              "    <tr>\n",
              "      <th>41</th>\n",
              "      <td>[free]</td>\n",
              "      <td>1014107316</td>\n",
              "    </tr>\n",
              "  </tbody>\n",
              "</table>\n",
              "</div>"
            ],
            "text/plain": [
              "        word       count\n",
              "26     [new]  1551258643\n",
              "32    [home]  1276852170\n",
              "37    [page]  1082121730\n",
              "40  [search]  1024093118\n",
              "41    [free]  1014107316"
            ]
          },
          "metadata": {
            "tags": []
          },
          "execution_count": 150
        }
      ]
    },
    {
      "cell_type": "code",
      "metadata": {
        "colab": {
          "base_uri": "https://localhost:8080/",
          "height": 204
        },
        "id": "WQoxau7Yg5qW",
        "outputId": "fea58e3d-ac11-40c0-b7b4-e819daf6a63b"
      },
      "source": [
        "# Parantezleri sil\n",
        "import re\n",
        "def clean_non_alphanumeric(text):\n",
        "  return re.sub('[^a-zA-Z]',' ',str(text))\n",
        "words3['word']=words3['word'].apply(clean_non_alphanumeric)\n",
        "words3.head()"
      ],
      "execution_count": 160,
      "outputs": [
        {
          "output_type": "execute_result",
          "data": {
            "text/html": [
              "<div>\n",
              "<style scoped>\n",
              "    .dataframe tbody tr th:only-of-type {\n",
              "        vertical-align: middle;\n",
              "    }\n",
              "\n",
              "    .dataframe tbody tr th {\n",
              "        vertical-align: top;\n",
              "    }\n",
              "\n",
              "    .dataframe thead th {\n",
              "        text-align: right;\n",
              "    }\n",
              "</style>\n",
              "<table border=\"1\" class=\"dataframe\">\n",
              "  <thead>\n",
              "    <tr style=\"text-align: right;\">\n",
              "      <th></th>\n",
              "      <th>word</th>\n",
              "      <th>count</th>\n",
              "      <th>Point</th>\n",
              "    </tr>\n",
              "  </thead>\n",
              "  <tbody>\n",
              "    <tr>\n",
              "      <th>26</th>\n",
              "      <td>new</td>\n",
              "      <td>1551258643</td>\n",
              "      <td>10</td>\n",
              "    </tr>\n",
              "    <tr>\n",
              "      <th>32</th>\n",
              "      <td>home</td>\n",
              "      <td>1276852170</td>\n",
              "      <td>10</td>\n",
              "    </tr>\n",
              "    <tr>\n",
              "      <th>37</th>\n",
              "      <td>page</td>\n",
              "      <td>1082121730</td>\n",
              "      <td>10</td>\n",
              "    </tr>\n",
              "    <tr>\n",
              "      <th>40</th>\n",
              "      <td>search</td>\n",
              "      <td>1024093118</td>\n",
              "      <td>10</td>\n",
              "    </tr>\n",
              "    <tr>\n",
              "      <th>41</th>\n",
              "      <td>free</td>\n",
              "      <td>1014107316</td>\n",
              "      <td>10</td>\n",
              "    </tr>\n",
              "  </tbody>\n",
              "</table>\n",
              "</div>"
            ],
            "text/plain": [
              "          word       count  Point\n",
              "26       new    1551258643     10\n",
              "32      home    1276852170     10\n",
              "37      page    1082121730     10\n",
              "40    search    1024093118     10\n",
              "41      free    1014107316     10"
            ]
          },
          "metadata": {
            "tags": []
          },
          "execution_count": 160
        }
      ]
    },
    {
      "cell_type": "code",
      "metadata": {
        "colab": {
          "base_uri": "https://localhost:8080/"
        },
        "id": "MrhlleEShlXC",
        "outputId": "09849298-5ff7-41f6-9057-3be161f3a053"
      },
      "source": [
        "words3.shape"
      ],
      "execution_count": 161,
      "outputs": [
        {
          "output_type": "execute_result",
          "data": {
            "text/plain": [
              "(332513, 3)"
            ]
          },
          "metadata": {
            "tags": []
          },
          "execution_count": 161
        }
      ]
    },
    {
      "cell_type": "code",
      "metadata": {
        "colab": {
          "base_uri": "https://localhost:8080/"
        },
        "id": "d-0jJpXn9j7m",
        "outputId": "8992a56a-552b-4b25-ea20-53f42f8b4538"
      },
      "source": [
        "words4=words3\n",
        "aralik=round(words3.shape[0]/10)\n",
        "max_puan=10\n",
        "#ilk 9 parca esit bolunecek artanlar son parcaya eklenecek\n",
        "words4['Point']=1\n",
        "for i in range(9):\n",
        "  print(\"Baslangic :\"+str(aralik*i)+\" Bitis :\"+str(aralik*i+aralik-1)+ \" Puan :\"+str(max_puan-i))\n",
        "  words4['Point'][aralik*i:aralik*i+aralik] = max_puan-i\n"
      ],
      "execution_count": 162,
      "outputs": [
        {
          "output_type": "stream",
          "text": [
            "Baslangic :0 Bitis :33250 Puan :10\n",
            "Baslangic :33251 Bitis :66501 Puan :9\n",
            "Baslangic :66502 Bitis :99752 Puan :8\n",
            "Baslangic :99753 Bitis :133003 Puan :7\n",
            "Baslangic :133004 Bitis :166254 Puan :6\n",
            "Baslangic :166255 Bitis :199505 Puan :5\n",
            "Baslangic :199506 Bitis :232756 Puan :4\n",
            "Baslangic :232757 Bitis :266007 Puan :3\n",
            "Baslangic :266008 Bitis :299258 Puan :2\n"
          ],
          "name": "stdout"
        },
        {
          "output_type": "stream",
          "text": [
            "/usr/local/lib/python3.7/dist-packages/ipykernel_launcher.py:8: SettingWithCopyWarning: \n",
            "A value is trying to be set on a copy of a slice from a DataFrame\n",
            "\n",
            "See the caveats in the documentation: https://pandas.pydata.org/pandas-docs/stable/user_guide/indexing.html#returning-a-view-versus-a-copy\n",
            "  \n"
          ],
          "name": "stderr"
        }
      ]
    },
    {
      "cell_type": "code",
      "metadata": {
        "id": "zUJI94XC9s5n"
      },
      "source": [
        "# Manuel olarak puanlara göre 10 ayrı dataframe oluşturuldu\n",
        "\n",
        "words_0=words4.iloc[:33250,:]\n",
        "words_1=words4.iloc[33251:66501 ,:]\n",
        "words_2=words4.iloc[66502:99752 ,:]\n",
        "words_3=words4.iloc[99753:133003 ,:]\n",
        "words_4=words4.iloc[133004:166254  ,:]\n",
        "words_5=words4.iloc[166255:199505  ,:]\n",
        "words_6=words4.iloc[199506:232756,  :]\n",
        "words_7=words4.iloc[232757:266007,  :]\n",
        "words_8=words4.iloc[266008:299258,  :]\n",
        "words_9=words4.iloc[299259:,  :]\n"
      ],
      "execution_count": 163,
      "outputs": []
    },
    {
      "cell_type": "code",
      "metadata": {
        "id": "-uRL2Sjj9yUR"
      },
      "source": [
        "#10 Dataframe'e point diye column eklendi\n",
        "words_0['Point']=10\n",
        "words_1['Point']=9\n",
        "words_2['Point']=8\n",
        "words_3['Point']=7\n",
        "words_4['Point']=6\n",
        "words_5['Point']=5\n",
        "words_6['Point']=4\n",
        "words_7['Point']=3\n",
        "words_8['Point']=2\n",
        "words_9['Point']=1\n",
        "words_0.head()"
      ],
      "execution_count": null,
      "outputs": []
    },
    {
      "cell_type": "code",
      "metadata": {
        "colab": {
          "base_uri": "https://localhost:8080/",
          "height": 204
        },
        "id": "X8e4pvDC92YJ",
        "outputId": "e008ffd9-6a48-4c8f-9ac3-dea135969aa0"
      },
      "source": [
        "#Reset index of new dataframes\n",
        "words_0.reset_index(drop=True,inplace=True)\n",
        "words_1.reset_index(drop=True,inplace=True)\n",
        "words_2.reset_index(drop=True,inplace=True)\n",
        "words_3.reset_index(drop=True,inplace=True)\n",
        "words_4.reset_index(drop=True,inplace=True)\n",
        "words_5.reset_index(drop=True,inplace=True)\n",
        "words_6.reset_index(drop=True,inplace=True)\n",
        "words_7.reset_index(drop=True,inplace=True)\n",
        "words_8.reset_index(drop=True,inplace=True)\n",
        "words_9.reset_index(drop=True,inplace=True)\n",
        "words_0.head()"
      ],
      "execution_count": 165,
      "outputs": [
        {
          "output_type": "execute_result",
          "data": {
            "text/html": [
              "<div>\n",
              "<style scoped>\n",
              "    .dataframe tbody tr th:only-of-type {\n",
              "        vertical-align: middle;\n",
              "    }\n",
              "\n",
              "    .dataframe tbody tr th {\n",
              "        vertical-align: top;\n",
              "    }\n",
              "\n",
              "    .dataframe thead th {\n",
              "        text-align: right;\n",
              "    }\n",
              "</style>\n",
              "<table border=\"1\" class=\"dataframe\">\n",
              "  <thead>\n",
              "    <tr style=\"text-align: right;\">\n",
              "      <th></th>\n",
              "      <th>word</th>\n",
              "      <th>count</th>\n",
              "      <th>Point</th>\n",
              "    </tr>\n",
              "  </thead>\n",
              "  <tbody>\n",
              "    <tr>\n",
              "      <th>0</th>\n",
              "      <td>new</td>\n",
              "      <td>1551258643</td>\n",
              "      <td>10</td>\n",
              "    </tr>\n",
              "    <tr>\n",
              "      <th>1</th>\n",
              "      <td>home</td>\n",
              "      <td>1276852170</td>\n",
              "      <td>10</td>\n",
              "    </tr>\n",
              "    <tr>\n",
              "      <th>2</th>\n",
              "      <td>page</td>\n",
              "      <td>1082121730</td>\n",
              "      <td>10</td>\n",
              "    </tr>\n",
              "    <tr>\n",
              "      <th>3</th>\n",
              "      <td>search</td>\n",
              "      <td>1024093118</td>\n",
              "      <td>10</td>\n",
              "    </tr>\n",
              "    <tr>\n",
              "      <th>4</th>\n",
              "      <td>free</td>\n",
              "      <td>1014107316</td>\n",
              "      <td>10</td>\n",
              "    </tr>\n",
              "  </tbody>\n",
              "</table>\n",
              "</div>"
            ],
            "text/plain": [
              "         word       count  Point\n",
              "0       new    1551258643     10\n",
              "1      home    1276852170     10\n",
              "2      page    1082121730     10\n",
              "3    search    1024093118     10\n",
              "4      free    1014107316     10"
            ]
          },
          "metadata": {
            "tags": []
          },
          "execution_count": 165
        }
      ]
    },
    {
      "cell_type": "code",
      "metadata": {
        "id": "fIX8UEcAMy35"
      },
      "source": [
        "#tüm kelimeleri bir dosyaya yazmak\n",
        "words4.to_csv(\"/content/drive/MyDrive/EnglishWordsDataset/allwords.csv\",index=False)"
      ],
      "execution_count": 166,
      "outputs": []
    },
    {
      "cell_type": "code",
      "metadata": {
        "id": "OGGrM_FF95L5"
      },
      "source": [
        "#Dataframe'leri dosyaya yazmak\n",
        "words_0.to_csv(\"/content/drive/MyDrive/EnglishWordsDataset/10pointswords.csv\",index=False)\n",
        "words_1.to_csv(\"/content/drive/MyDrive/EnglishWordsDataset/9pointswords.csv\",index=False)\n",
        "words_2.to_csv(\"/content/drive/MyDrive/EnglishWordsDataset/8pointswords.csv\",index=False)"
      ],
      "execution_count": 167,
      "outputs": []
    }
  ]
}